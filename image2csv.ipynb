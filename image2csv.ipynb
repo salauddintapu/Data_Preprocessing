{
 "cells": [
  {
   "cell_type": "code",
   "execution_count": 1,
   "id": "86c8db02",
   "metadata": {
    "ExecuteTime": {
     "end_time": "2023-05-16T14:44:15.799985Z",
     "start_time": "2023-05-16T14:44:15.528903Z"
    }
   },
   "outputs": [],
   "source": [
    "#import libraries\n",
    "import os\n",
    "import numpy as np\n",
    "import pandas as pd\n",
    "import pickle"
   ]
  },
  {
   "cell_type": "code",
   "execution_count": 17,
   "id": "8f8bc5d9",
   "metadata": {
    "ExecuteTime": {
     "end_time": "2023-05-16T15:17:26.665036Z",
     "start_time": "2023-05-16T15:17:26.660864Z"
    }
   },
   "outputs": [],
   "source": [
    "path = '/home/tapu/Visie ML/Codes/Images'\n",
    "#for root, dirs, files in os.walk(path):\n",
    "    #print(root)    #file and folders in root dir\n",
    "    #print(dirs)    #sub dirs\n",
    "    #print(files)    #files in dirs"
   ]
  },
  {
   "cell_type": "code",
   "execution_count": 33,
   "id": "1d259a49",
   "metadata": {
    "ExecuteTime": {
     "end_time": "2023-05-16T15:34:07.087274Z",
     "start_time": "2023-05-16T15:34:07.081823Z"
    }
   },
   "outputs": [],
   "source": [
    "img_dict = dict()\n",
    "img_name = []\n",
    "folder_name = []\n",
    "for root, dirs, files in os.walk(path):\n",
    "    for file in files:\n",
    "        img_path = os.path.join(root, file)\n",
    "        img_name.append(os.path.basename(img_path))\n",
    "        folder_name.append(os.path.basename(os.path.dirname(img_path)))"
   ]
  },
  {
   "cell_type": "code",
   "execution_count": 39,
   "id": "853ef4b2",
   "metadata": {
    "ExecuteTime": {
     "end_time": "2023-05-16T15:34:53.871441Z",
     "start_time": "2023-05-16T15:34:53.866147Z"
    }
   },
   "outputs": [
    {
     "data": {
      "text/plain": [
       "15"
      ]
     },
     "execution_count": 39,
     "metadata": {},
     "output_type": "execute_result"
    }
   ],
   "source": [
    "len(img_name)"
   ]
  },
  {
   "cell_type": "code",
   "execution_count": 38,
   "id": "238da286",
   "metadata": {
    "ExecuteTime": {
     "end_time": "2023-05-16T15:34:44.832070Z",
     "start_time": "2023-05-16T15:34:44.827357Z"
    }
   },
   "outputs": [
    {
     "data": {
      "text/plain": [
       "15"
      ]
     },
     "execution_count": 38,
     "metadata": {},
     "output_type": "execute_result"
    }
   ],
   "source": [
    "len(folder_name)"
   ]
  },
  {
   "cell_type": "code",
   "execution_count": 40,
   "id": "8ee2a9bc",
   "metadata": {
    "ExecuteTime": {
     "end_time": "2023-05-16T15:37:56.207599Z",
     "start_time": "2023-05-16T15:37:56.200625Z"
    }
   },
   "outputs": [
    {
     "data": {
      "text/plain": [
       "{'image name': ['m0.jpeg',\n",
       "  'm4.jpeg',\n",
       "  'm3.jpeg',\n",
       "  'm2.jpeg',\n",
       "  'm1.jpeg',\n",
       "  'b3.jpeg',\n",
       "  'b2.jpeg',\n",
       "  'b0.jpeg',\n",
       "  'b4.jpeg',\n",
       "  'b1.jpeg',\n",
       "  'c1.jpeg',\n",
       "  'c3.jpeg',\n",
       "  'c4.jpeg',\n",
       "  'c2.jpeg',\n",
       "  'c0.jpeg'],\n",
       " 'folder name': ['Mango',\n",
       "  'Mango',\n",
       "  'Mango',\n",
       "  'Mango',\n",
       "  'Mango',\n",
       "  'Bike',\n",
       "  'Bike',\n",
       "  'Bike',\n",
       "  'Bike',\n",
       "  'Bike',\n",
       "  'Car',\n",
       "  'Car',\n",
       "  'Car',\n",
       "  'Car',\n",
       "  'Car']}"
      ]
     },
     "execution_count": 40,
     "metadata": {},
     "output_type": "execute_result"
    }
   ],
   "source": [
    "img_dict['image name'] = img_name\n",
    "img_dict['folder name'] = folder_name\n",
    "img_dict"
   ]
  },
  {
   "cell_type": "code",
   "execution_count": 42,
   "id": "05da745a",
   "metadata": {
    "ExecuteTime": {
     "end_time": "2023-05-16T15:38:58.176343Z",
     "start_time": "2023-05-16T15:38:58.161405Z"
    }
   },
   "outputs": [
    {
     "data": {
      "text/html": [
       "<div>\n",
       "<style scoped>\n",
       "    .dataframe tbody tr th:only-of-type {\n",
       "        vertical-align: middle;\n",
       "    }\n",
       "\n",
       "    .dataframe tbody tr th {\n",
       "        vertical-align: top;\n",
       "    }\n",
       "\n",
       "    .dataframe thead th {\n",
       "        text-align: right;\n",
       "    }\n",
       "</style>\n",
       "<table border=\"1\" class=\"dataframe\">\n",
       "  <thead>\n",
       "    <tr style=\"text-align: right;\">\n",
       "      <th></th>\n",
       "      <th>image name</th>\n",
       "      <th>folder name</th>\n",
       "    </tr>\n",
       "  </thead>\n",
       "  <tbody>\n",
       "    <tr>\n",
       "      <th>0</th>\n",
       "      <td>m0.jpeg</td>\n",
       "      <td>Mango</td>\n",
       "    </tr>\n",
       "    <tr>\n",
       "      <th>1</th>\n",
       "      <td>m4.jpeg</td>\n",
       "      <td>Mango</td>\n",
       "    </tr>\n",
       "    <tr>\n",
       "      <th>2</th>\n",
       "      <td>m3.jpeg</td>\n",
       "      <td>Mango</td>\n",
       "    </tr>\n",
       "    <tr>\n",
       "      <th>3</th>\n",
       "      <td>m2.jpeg</td>\n",
       "      <td>Mango</td>\n",
       "    </tr>\n",
       "    <tr>\n",
       "      <th>4</th>\n",
       "      <td>m1.jpeg</td>\n",
       "      <td>Mango</td>\n",
       "    </tr>\n",
       "    <tr>\n",
       "      <th>5</th>\n",
       "      <td>b3.jpeg</td>\n",
       "      <td>Bike</td>\n",
       "    </tr>\n",
       "    <tr>\n",
       "      <th>6</th>\n",
       "      <td>b2.jpeg</td>\n",
       "      <td>Bike</td>\n",
       "    </tr>\n",
       "    <tr>\n",
       "      <th>7</th>\n",
       "      <td>b0.jpeg</td>\n",
       "      <td>Bike</td>\n",
       "    </tr>\n",
       "    <tr>\n",
       "      <th>8</th>\n",
       "      <td>b4.jpeg</td>\n",
       "      <td>Bike</td>\n",
       "    </tr>\n",
       "    <tr>\n",
       "      <th>9</th>\n",
       "      <td>b1.jpeg</td>\n",
       "      <td>Bike</td>\n",
       "    </tr>\n",
       "    <tr>\n",
       "      <th>10</th>\n",
       "      <td>c1.jpeg</td>\n",
       "      <td>Car</td>\n",
       "    </tr>\n",
       "    <tr>\n",
       "      <th>11</th>\n",
       "      <td>c3.jpeg</td>\n",
       "      <td>Car</td>\n",
       "    </tr>\n",
       "    <tr>\n",
       "      <th>12</th>\n",
       "      <td>c4.jpeg</td>\n",
       "      <td>Car</td>\n",
       "    </tr>\n",
       "    <tr>\n",
       "      <th>13</th>\n",
       "      <td>c2.jpeg</td>\n",
       "      <td>Car</td>\n",
       "    </tr>\n",
       "    <tr>\n",
       "      <th>14</th>\n",
       "      <td>c0.jpeg</td>\n",
       "      <td>Car</td>\n",
       "    </tr>\n",
       "  </tbody>\n",
       "</table>\n",
       "</div>"
      ],
      "text/plain": [
       "   image name folder name\n",
       "0     m0.jpeg       Mango\n",
       "1     m4.jpeg       Mango\n",
       "2     m3.jpeg       Mango\n",
       "3     m2.jpeg       Mango\n",
       "4     m1.jpeg       Mango\n",
       "5     b3.jpeg        Bike\n",
       "6     b2.jpeg        Bike\n",
       "7     b0.jpeg        Bike\n",
       "8     b4.jpeg        Bike\n",
       "9     b1.jpeg        Bike\n",
       "10    c1.jpeg         Car\n",
       "11    c3.jpeg         Car\n",
       "12    c4.jpeg         Car\n",
       "13    c2.jpeg         Car\n",
       "14    c0.jpeg         Car"
      ]
     },
     "execution_count": 42,
     "metadata": {},
     "output_type": "execute_result"
    }
   ],
   "source": [
    "img_df = pd.DataFrame(img_dict)\n",
    "img_df"
   ]
  },
  {
   "cell_type": "code",
   "execution_count": 48,
   "id": "ac928a2b",
   "metadata": {
    "ExecuteTime": {
     "end_time": "2023-05-16T15:53:18.105631Z",
     "start_time": "2023-05-16T15:53:17.915905Z"
    }
   },
   "outputs": [],
   "source": [
    "from sklearn.preprocessing import LabelEncoder"
   ]
  },
  {
   "cell_type": "code",
   "execution_count": 50,
   "id": "cec7f901",
   "metadata": {
    "ExecuteTime": {
     "end_time": "2023-05-16T15:57:45.458955Z",
     "start_time": "2023-05-16T15:57:45.452089Z"
    }
   },
   "outputs": [],
   "source": [
    "encoder = LabelEncoder()\n",
    "img_df['Label'] = encoder.fit_transform(img_df['folder name'])"
   ]
  },
  {
   "cell_type": "code",
   "execution_count": 51,
   "id": "9f9acd07",
   "metadata": {
    "ExecuteTime": {
     "end_time": "2023-05-16T15:57:49.730187Z",
     "start_time": "2023-05-16T15:57:49.722700Z"
    }
   },
   "outputs": [
    {
     "data": {
      "text/html": [
       "<div>\n",
       "<style scoped>\n",
       "    .dataframe tbody tr th:only-of-type {\n",
       "        vertical-align: middle;\n",
       "    }\n",
       "\n",
       "    .dataframe tbody tr th {\n",
       "        vertical-align: top;\n",
       "    }\n",
       "\n",
       "    .dataframe thead th {\n",
       "        text-align: right;\n",
       "    }\n",
       "</style>\n",
       "<table border=\"1\" class=\"dataframe\">\n",
       "  <thead>\n",
       "    <tr style=\"text-align: right;\">\n",
       "      <th></th>\n",
       "      <th>image name</th>\n",
       "      <th>folder name</th>\n",
       "      <th>Label</th>\n",
       "    </tr>\n",
       "  </thead>\n",
       "  <tbody>\n",
       "    <tr>\n",
       "      <th>0</th>\n",
       "      <td>m0.jpeg</td>\n",
       "      <td>Mango</td>\n",
       "      <td>2</td>\n",
       "    </tr>\n",
       "    <tr>\n",
       "      <th>1</th>\n",
       "      <td>m4.jpeg</td>\n",
       "      <td>Mango</td>\n",
       "      <td>2</td>\n",
       "    </tr>\n",
       "    <tr>\n",
       "      <th>2</th>\n",
       "      <td>m3.jpeg</td>\n",
       "      <td>Mango</td>\n",
       "      <td>2</td>\n",
       "    </tr>\n",
       "    <tr>\n",
       "      <th>3</th>\n",
       "      <td>m2.jpeg</td>\n",
       "      <td>Mango</td>\n",
       "      <td>2</td>\n",
       "    </tr>\n",
       "    <tr>\n",
       "      <th>4</th>\n",
       "      <td>m1.jpeg</td>\n",
       "      <td>Mango</td>\n",
       "      <td>2</td>\n",
       "    </tr>\n",
       "    <tr>\n",
       "      <th>5</th>\n",
       "      <td>b3.jpeg</td>\n",
       "      <td>Bike</td>\n",
       "      <td>0</td>\n",
       "    </tr>\n",
       "    <tr>\n",
       "      <th>6</th>\n",
       "      <td>b2.jpeg</td>\n",
       "      <td>Bike</td>\n",
       "      <td>0</td>\n",
       "    </tr>\n",
       "    <tr>\n",
       "      <th>7</th>\n",
       "      <td>b0.jpeg</td>\n",
       "      <td>Bike</td>\n",
       "      <td>0</td>\n",
       "    </tr>\n",
       "    <tr>\n",
       "      <th>8</th>\n",
       "      <td>b4.jpeg</td>\n",
       "      <td>Bike</td>\n",
       "      <td>0</td>\n",
       "    </tr>\n",
       "    <tr>\n",
       "      <th>9</th>\n",
       "      <td>b1.jpeg</td>\n",
       "      <td>Bike</td>\n",
       "      <td>0</td>\n",
       "    </tr>\n",
       "    <tr>\n",
       "      <th>10</th>\n",
       "      <td>c1.jpeg</td>\n",
       "      <td>Car</td>\n",
       "      <td>1</td>\n",
       "    </tr>\n",
       "    <tr>\n",
       "      <th>11</th>\n",
       "      <td>c3.jpeg</td>\n",
       "      <td>Car</td>\n",
       "      <td>1</td>\n",
       "    </tr>\n",
       "    <tr>\n",
       "      <th>12</th>\n",
       "      <td>c4.jpeg</td>\n",
       "      <td>Car</td>\n",
       "      <td>1</td>\n",
       "    </tr>\n",
       "    <tr>\n",
       "      <th>13</th>\n",
       "      <td>c2.jpeg</td>\n",
       "      <td>Car</td>\n",
       "      <td>1</td>\n",
       "    </tr>\n",
       "    <tr>\n",
       "      <th>14</th>\n",
       "      <td>c0.jpeg</td>\n",
       "      <td>Car</td>\n",
       "      <td>1</td>\n",
       "    </tr>\n",
       "  </tbody>\n",
       "</table>\n",
       "</div>"
      ],
      "text/plain": [
       "   image name folder name  Label\n",
       "0     m0.jpeg       Mango      2\n",
       "1     m4.jpeg       Mango      2\n",
       "2     m3.jpeg       Mango      2\n",
       "3     m2.jpeg       Mango      2\n",
       "4     m1.jpeg       Mango      2\n",
       "5     b3.jpeg        Bike      0\n",
       "6     b2.jpeg        Bike      0\n",
       "7     b0.jpeg        Bike      0\n",
       "8     b4.jpeg        Bike      0\n",
       "9     b1.jpeg        Bike      0\n",
       "10    c1.jpeg         Car      1\n",
       "11    c3.jpeg         Car      1\n",
       "12    c4.jpeg         Car      1\n",
       "13    c2.jpeg         Car      1\n",
       "14    c0.jpeg         Car      1"
      ]
     },
     "execution_count": 51,
     "metadata": {},
     "output_type": "execute_result"
    }
   ],
   "source": [
    "img_df"
   ]
  },
  {
   "cell_type": "code",
   "execution_count": 52,
   "id": "305f6fa6",
   "metadata": {
    "ExecuteTime": {
     "end_time": "2023-05-16T15:58:17.512411Z",
     "start_time": "2023-05-16T15:58:17.507084Z"
    }
   },
   "outputs": [],
   "source": [
    "img_df.to_csv('images.csv', index=False)"
   ]
  },
  {
   "cell_type": "code",
   "execution_count": 54,
   "id": "4bfa138d",
   "metadata": {
    "ExecuteTime": {
     "end_time": "2023-05-16T16:21:55.725111Z",
     "start_time": "2023-05-16T16:21:55.709748Z"
    }
   },
   "outputs": [],
   "source": [
    "from PIL import Image"
   ]
  },
  {
   "cell_type": "code",
   "execution_count": 55,
   "id": "7b7797f1",
   "metadata": {
    "ExecuteTime": {
     "end_time": "2023-05-16T16:21:56.712138Z",
     "start_time": "2023-05-16T16:21:56.686525Z"
    }
   },
   "outputs": [],
   "source": [
    "for root, dirs, files in os.walk(path):\n",
    "    img_path = [os.path.join(root, file) for file in files]\n",
    "    imgs = []\n",
    "    for p in img_path:\n",
    "        read_img = Image.open(p).convert('L')\n",
    "        new_img = read_img.resize((32,32))\n",
    "        im = np.array(new_img)\n",
    "        imgs.append(im)"
   ]
  },
  {
   "cell_type": "code",
   "execution_count": 56,
   "id": "d358c2cd",
   "metadata": {
    "ExecuteTime": {
     "end_time": "2023-05-16T16:22:29.579957Z",
     "start_time": "2023-05-16T16:22:29.573968Z"
    }
   },
   "outputs": [
    {
     "data": {
      "text/plain": [
       "array([[[ 47,  40,  39, ..., 191, 184, 176],\n",
       "        [ 43,  31,  25, ..., 198, 193, 187],\n",
       "        [ 51,  45,  35, ..., 205, 201, 195],\n",
       "        ...,\n",
       "        [ 52,  51,  53, ...,  27,  29,  31],\n",
       "        [ 67,  72,  74, ...,  29,  30,  32],\n",
       "        [ 73,  73,  69, ...,  29,  29,  31]],\n",
       "\n",
       "       [[142, 144, 146, ..., 148, 147, 144],\n",
       "        [149, 151, 153, ..., 154, 153, 151],\n",
       "        [158, 154, 160, ..., 161, 159, 157],\n",
       "        ...,\n",
       "        [ 61,  69,  88, ..., 115,  95,  83],\n",
       "        [117, 134, 142, ..., 130, 133, 121],\n",
       "        [133, 143, 152, ..., 102, 111, 130]],\n",
       "\n",
       "       [[255, 255, 255, ..., 255, 255, 255],\n",
       "        [255, 255, 255, ..., 255, 255, 255],\n",
       "        [255, 255, 255, ..., 255, 255, 255],\n",
       "        ...,\n",
       "        [255, 255, 255, ..., 255, 255, 255],\n",
       "        [255, 255, 255, ..., 255, 255, 255],\n",
       "        [255, 255, 255, ..., 255, 255, 255]],\n",
       "\n",
       "       [[112, 104, 104, ...,  20,   9,  30],\n",
       "        [141, 105, 111, ...,  23,  11,  30],\n",
       "        [133,  86, 102, ...,  32,  16,  20],\n",
       "        ...,\n",
       "        [128, 128, 126, ..., 117, 108, 104],\n",
       "        [124, 129, 128, ..., 128, 120, 108],\n",
       "        [125, 126, 131, ..., 122, 120, 114]],\n",
       "\n",
       "       [[148, 147, 142, ...,  52,  66,  96],\n",
       "        [147, 146, 149, ...,  47,  50,  64],\n",
       "        [154, 148, 146, ...,  33,  33,  35],\n",
       "        ...,\n",
       "        [178, 181, 181, ..., 156, 174, 176],\n",
       "        [184, 184, 183, ..., 174, 181, 181],\n",
       "        [181, 180, 179, ..., 181, 182, 182]]], dtype=uint8)"
      ]
     },
     "execution_count": 56,
     "metadata": {},
     "output_type": "execute_result"
    }
   ],
   "source": [
    "npy = np.array(imgs)\n",
    "npy"
   ]
  },
  {
   "cell_type": "code",
   "execution_count": 57,
   "id": "f010d56f",
   "metadata": {
    "ExecuteTime": {
     "end_time": "2023-05-16T16:23:03.058623Z",
     "start_time": "2023-05-16T16:23:03.053778Z"
    }
   },
   "outputs": [],
   "source": [
    "np.save('imgs.npy', npy)"
   ]
  },
  {
   "cell_type": "code",
   "execution_count": null,
   "id": "01b93427",
   "metadata": {},
   "outputs": [],
   "source": []
  }
 ],
 "metadata": {
  "kernelspec": {
   "display_name": "mlenv",
   "language": "python",
   "name": "mlenv"
  },
  "language_info": {
   "codemirror_mode": {
    "name": "ipython",
    "version": 3
   },
   "file_extension": ".py",
   "mimetype": "text/x-python",
   "name": "python",
   "nbconvert_exporter": "python",
   "pygments_lexer": "ipython3",
   "version": "3.8.10"
  },
  "latex_envs": {
   "LaTeX_envs_menu_present": true,
   "autoclose": false,
   "autocomplete": true,
   "bibliofile": "biblio.bib",
   "cite_by": "apalike",
   "current_citInitial": 1,
   "eqLabelWithNumbers": true,
   "eqNumInitial": 1,
   "hotkeys": {
    "equation": "Ctrl-E",
    "itemize": "Ctrl-I"
   },
   "labels_anchors": false,
   "latex_user_defs": false,
   "report_style_numbering": false,
   "user_envs_cfg": false
  },
  "toc": {
   "base_numbering": 1,
   "nav_menu": {},
   "number_sections": true,
   "sideBar": true,
   "skip_h1_title": false,
   "title_cell": "Table of Contents",
   "title_sidebar": "Contents",
   "toc_cell": false,
   "toc_position": {},
   "toc_section_display": true,
   "toc_window_display": false
  },
  "varInspector": {
   "cols": {
    "lenName": 16,
    "lenType": 16,
    "lenVar": 40
   },
   "kernels_config": {
    "python": {
     "delete_cmd_postfix": "",
     "delete_cmd_prefix": "del ",
     "library": "var_list.py",
     "varRefreshCmd": "print(var_dic_list())"
    },
    "r": {
     "delete_cmd_postfix": ") ",
     "delete_cmd_prefix": "rm(",
     "library": "var_list.r",
     "varRefreshCmd": "cat(var_dic_list()) "
    }
   },
   "types_to_exclude": [
    "module",
    "function",
    "builtin_function_or_method",
    "instance",
    "_Feature"
   ],
   "window_display": false
  }
 },
 "nbformat": 4,
 "nbformat_minor": 5
}
